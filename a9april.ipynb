{
 "cells": [
  {
   "cell_type": "markdown",
   "id": "7ab6acf5-6009-46fb-852e-8fb794d8ca21",
   "metadata": {},
   "source": [
    "# Quetion : 1"
   ]
  },
  {
   "cell_type": "markdown",
   "id": "e38ecd3b-9bbd-475b-a702-ab4653f48e8c",
   "metadata": {},
   "source": [
    "Bayes' theorem is a fundamental concept in probability theory and statistics. It provides a way to update the probability of an event based on new evidence or information. It is named after the Reverend Thomas Bayes, an 18th-century British mathematician and theologian."
   ]
  },
  {
   "cell_type": "markdown",
   "id": "e949ed31-ec7a-47d9-93a4-8e4d901a5901",
   "metadata": {},
   "source": [
    "# Quetion : 2"
   ]
  },
  {
   "cell_type": "markdown",
   "id": "0bcf09aa-c02a-473e-b989-64580beb406a",
   "metadata": {},
   "source": [
    "The formula for Bayes' theorem is:\n",
    "\n",
    "P(A|B) = (P(B|A) * P(A)) / P(B)\n",
    "\n",
    "where:\n",
    "\n",
    "P(A|B) is the probability of event A given event B has occurred (called the posterior probability).\n",
    "P(B|A) is the probability of event B given event A has occurred (called the likelihood).\n",
    "P(A) is the probability of event A occurring (called the prior probability).\n",
    "P(B) is the probability of event B occurring (called the marginal probability)."
   ]
  },
  {
   "cell_type": "markdown",
   "id": "bbacb8b5-cae7-440a-85e5-02fafc0009c9",
   "metadata": {},
   "source": [
    "# Quetion : 3"
   ]
  },
  {
   "cell_type": "markdown",
   "id": "70b10db9-1227-490a-952b-9aaf32e2b61e",
   "metadata": {},
   "source": [
    "Bayes' theorem is used in practice in various fields, including statistics, machine learning, and data science. It is used for tasks such as classification, hypothesis testing, and parameter estimation. In practice, Bayes' theorem allows us to update our beliefs or probabilities based on new evidence or observations."
   ]
  },
  {
   "cell_type": "markdown",
   "id": "99634dfe-370a-4ec8-9de9-2df72de51d67",
   "metadata": {},
   "source": [
    "# Quetion : 4"
   ]
  },
  {
   "cell_type": "markdown",
   "id": "fd528c44-167e-4069-89b4-f03d56ab3762",
   "metadata": {},
   "source": [
    "Bayes' theorem and conditional probability are closely related. Bayes' theorem is derived from conditional probability. Conditional probability represents the probability of an event occurring given that another event has already occurred. Bayes' theorem provides a way to reverse the conditioning, i.e., it allows us to calculate the probability of the initial event given the occurrence of the second event."
   ]
  },
  {
   "cell_type": "markdown",
   "id": "e0bc7786-6074-40bb-94f4-bad6a4770a92",
   "metadata": {},
   "source": [
    "# Quetion : 5"
   ]
  },
  {
   "cell_type": "markdown",
   "id": "19626ac4-d821-40c1-80f0-4912b74764ab",
   "metadata": {},
   "source": [
    "he choice of which type of Naive Bayes classifier to use depends on the nature of the data and the assumptions made about the features. The three main types of Naive Bayes classifiers are:\n",
    "\n",
    "Gaussian Naive Bayes: Assumes that the features follow a Gaussian (normal) distribution.\n",
    "Multinomial Naive Bayes: Assumes that the features are discrete and have a multinomial distribution (e.g., word counts in text classification).\n",
    "Bernoulli Naive Bayes: Assumes that the features are binary or Bernoulli distributed (e.g., presence or absence of a feature).\n",
    "The choice depends on the specific problem and the characteristics of the data. Gaussian Naive Bayes is often used for continuous numerical data, multinomial Naive Bayes for discrete features, and Bernoulli Naive Bayes for binary features."
   ]
  },
  {
   "cell_type": "markdown",
   "id": "bd3fa2f9-34bf-44c3-aa1e-b1a9ce7b8c05",
   "metadata": {},
   "source": [
    "# Quetion : 6"
   ]
  },
  {
   "cell_type": "markdown",
   "id": "8d95a67c-8d38-4880-be0e-a5606445719d",
   "metadata": {},
   "source": [
    "To predict the class using Naive Bayes with the given dataset, we need to calculate the probabilities using the Naive Bayes formula. First, let's calculate the probabilities for each class.\n",
    "\n",
    "For class A:\n",
    "P(A) = 7 / (7 + 6) = 7/13\n",
    "\n",
    "For class B:\n",
    "P(B) = 6 / (7 + 6) = 6/13\n",
    "\n",
    "Next, we calculate the conditional probabilities using the features:\n",
    "\n",
    "P(X1=3 | A) = 4 / 13\n",
    "P(X2=4 | A) = 3 / 13\n",
    "P(X1=3 | B) = 1 / 13\n",
    "P(X2=4 | B) = 3 / 13\n",
    "\n",
    "Using the Naive Bayes formula, we can calculate the posterior probabilities for each class:\n",
    "\n",
    "P(A | X1=3, X2=4) = (P(X1=3 | A) * P(X2=4 | A) * P(A)) / P(X1=3, X2=4)\n",
    "P(B | X1=3, X2=4) = (P(X1=3 | B) * P(X2=4 | B) * P(B)) / P(X1=3, X2=4)\n",
    "\n",
    "Since the prior probabilities for both classes are assumed to be equal, P(A) = P(B) = 1/2, we can simplify the calculation:\n",
    "\n",
    "P(A | X1=3, X2=4) = (P(X1=3 | A) * P(X2=4 | A)) / P(X1=3, X2=4)\n",
    "P(B | X1=3, X2=4) = (P(X1=3 | B) * P(X2=4 | B)) / P(X1=3, X2=4)\n",
    "\n",
    "Let's calculate the values:\n",
    "\n",
    "P(A | X1=3, X2=4) = (4/13 * 3/13) / P(X1=3, X2=4)\n",
    "P(B | X1=3, X2=4) = (1/13 * 3/13) / P(X1=3, X2=4)\n",
    "\n",
    "To calculate P(X1=3, X2=4), we need to sum the frequencies for both classes:\n",
    "\n",
    "P(X1=3, X2=4) = (4 + 3) / (13 + 13) = 7/26\n",
    "\n",
    "Now we can substitute the values:\n",
    "\n",
    "P(A | X1=3, X2=4) = (4/13 * 3/13) / (7/26)\n",
    "P(B | X1=3, X2=4) = (1/13 * 3/13) / (7/26)\n",
    "\n",
    "Let's calculate:\n",
    "\n",
    "P(A | X1=3, X2=4) ≈ 0.583\n",
    "P(B | X1=3, X2=4) ≈ 0.083\n",
    "\n",
    "Based on the posterior probabilities, the Naive Bayes classifier would predict the new instance to belong to class A since P(A | X1=3, X2=4) > P(B | X1=3, X2=4)."
   ]
  }
 ],
 "metadata": {
  "kernelspec": {
   "display_name": "Python 3 (ipykernel)",
   "language": "python",
   "name": "python3"
  },
  "language_info": {
   "codemirror_mode": {
    "name": "ipython",
    "version": 3
   },
   "file_extension": ".py",
   "mimetype": "text/x-python",
   "name": "python",
   "nbconvert_exporter": "python",
   "pygments_lexer": "ipython3",
   "version": "3.10.8"
  }
 },
 "nbformat": 4,
 "nbformat_minor": 5
}
